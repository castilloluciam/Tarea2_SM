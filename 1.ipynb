{
 "cells": [
  {
   "cell_type": "markdown",
   "metadata": {},
   "source": [
    "# Programming language of the year? Python is standout in latest rankings\n",
    "\n",
    "### Python consolidates its place as a long-term top-three programming language: \n",
    "+ Python gained 3.62 percentage points year over year in Tiobe's January 2019 index, beating rises by Visual Basic .NET and Java, the second and third biggest gainers. Python was created in 1989 by Dutch programmer Guido van Rossum, who relinquished his role as Python's 'Benevolent dictator for life' in July. \n",
    "+ It's also the most popular language with hackers, thanks to its easy-to-grasp syntax, broad availability of online tutorials, and an abundance of harmless third-party software libraries that can be repurposed for malicious use.\n",
    "+ The top 20 languages in descending order for January 2019 were Java, C, Python, C++, Visual Basic .NET, JavaScript, C#, PHP, SQL, Objective-C, MATLAB, R, Perl, Assembly language, Swift, Go, Delphi/Object Pascal, Ruby, PL/SQL, and Visual Basic"
   ]
  }
 ],
 "metadata": {
  "kernelspec": {
   "display_name": "Python 3",
   "language": "python",
   "name": "python3"
  },
  "language_info": {
   "codemirror_mode": {
    "name": "ipython",
    "version": 3
   },
   "file_extension": ".py",
   "mimetype": "text/x-python",
   "name": "python",
   "nbconvert_exporter": "python",
   "pygments_lexer": "ipython3",
   "version": "3.8.3"
  }
 },
 "nbformat": 4,
 "nbformat_minor": 4
}
