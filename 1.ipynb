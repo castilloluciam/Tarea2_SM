{
 "cells": [
  {
   "cell_type": "markdown",
   "metadata": {},
   "source": [
    "# Why Python is so popular with developers: 3 reasons the language has exploded\n",
    "\n",
    "### Python es el lenguaje de programación con mas crecimiento en estos ultimos años, esto se debe a tres principales razones: \n",
    "+ **Es muy fácil de aprender**, su sintaxis es simple. Para alguien novato en la programación la interfaz y el lenguaje son muy amigables.\n",
    "+ Python ha tenido mucho **crecimiento respecto a AI, Machine Learning y el data science**. Tiene muy buenas herramientas para la ciencia de datos y los expertos le ven buen futuro, además de tener aplicaciones para DevOps, desarrollo web y cualquier cosa.\n",
    "+ **Una gran comunidad de desarrolladores**. Hay muchas bibliotecas para Python, es de código abierto entonces puede que encuentres una solución a tu problema en algun lugar de internet."
   ]
  }
 ],
 "metadata": {
  "kernelspec": {
   "display_name": "Python 3",
   "language": "python",
   "name": "python3"
  },
  "language_info": {
   "codemirror_mode": {
    "name": "ipython",
    "version": 3
   },
   "file_extension": ".py",
   "mimetype": "text/x-python",
   "name": "python",
   "nbconvert_exporter": "python",
   "pygments_lexer": "ipython3",
   "version": "3.8.3"
  }
 },
 "nbformat": 4,
 "nbformat_minor": 4
}
