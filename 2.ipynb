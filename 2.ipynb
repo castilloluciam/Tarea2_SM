{
 "cells": [
  {
   "cell_type": "markdown",
   "metadata": {},
   "source": [
    "# Python: 7 Important Reasons Why You Should Use Python\n",
    "\n",
    "### Python es de los 10 lenguajes de programación más populares del 2017. Tiene muchas aplicaciones y es un lenguaje de alto nivel. A contunuación 7 razones por las que debes considerar programar en Python :\n",
    "+ **Código legible**: Las reglas de sintaxis permiten que la base del código sea limpia y legible, hay muchas palabras clave en inglés.\n",
    "+ **Paradigmas de programación múltiples**\n",
    "+ **Compatible con las principales plataformas y sistemas** Es compatible con muchos sistemas operativos, permite correr el código en diferentes plataformas sin necesidad de compilarlo de nuevo.\n",
    "+ **Demasiadas bibliotecas*\n",
    "+ **Muchos Marcos y herramkientas de código abierto**\n",
    "+ **Simplifica el desarrollo de software complejo**: Te permite desarrollar apps de proposito cientifico de una manera sencilla gracias a sus funciones incluidas de big data.\n",
    "+ **Adoptar el desarrollo basado en pruebas** \n"
   ]
  }
 ],
 "metadata": {
  "kernelspec": {
   "display_name": "Python 3",
   "language": "python",
   "name": "python3"
  },
  "language_info": {
   "name": ""
  }
 },
 "nbformat": 4,
 "nbformat_minor": 4
}
