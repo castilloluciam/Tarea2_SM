{
 "cells": [
  {
   "cell_type": "markdown",
   "metadata": {},
   "source": [
    "# 5 REASONS YOU SHOULD LEARN PYTHON NOW\n",
    "\n",
    "### Python es de los 10 lenguajes de programación más populares del 2017. Tiene muchas aplicaciones y es un lenguaje de alto nivel. A contunuación 7 razones por las que debes considerar programar en Python :\n",
    "+ Python is easy to use, powerful, and versatile, making it a great choice for beginners and experts alike. Python’s readability makes it a great first programming language.\n",
    "+ Python is incredibly powerful — there’s a reason companies like Google, Dropbox, Spotify, and Netflix use it.   \n",
    "+ The Dropbox desktop client is written entirely in Python, which speaks to its cross-platform compatibility. Dropbox has about 400 million users and considering it isn’t bundled with any operating system distribution, that’s a lot of users downloading and installing Dropbox.\n",
    "+ Google uses a mix of languages, with C++, Python, and now Go among them. Early on at Google, there was an engineering decision to use “Python where we can, C++ where we must.” Python was used for parts that required rapid delivery and maintenance.\n",
    "+ If you take a look at these companies, you can see they benefit from Python for its ease of use and because it’s great for rapid prototyping and iteration\n"
   ]
  }
 ],
 "metadata": {
  "kernelspec": {
   "display_name": "Python 3",
   "language": "python",
   "name": "python3"
  },
  "language_info": {
   "codemirror_mode": {
    "name": "ipython",
    "version": 3
   },
   "file_extension": ".py",
   "mimetype": "text/x-python",
   "name": "python",
   "nbconvert_exporter": "python",
   "pygments_lexer": "ipython3",
   "version": "3.8.3"
  }
 },
 "nbformat": 4,
 "nbformat_minor": 4
}
